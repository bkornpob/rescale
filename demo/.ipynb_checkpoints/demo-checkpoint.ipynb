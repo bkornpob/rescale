{
 "cells": [
  {
   "cell_type": "markdown",
   "metadata": {},
   "source": [
    "This demonstrates how to use Rescale()."
   ]
  },
  {
   "cell_type": "code",
   "execution_count": 1,
   "metadata": {},
   "outputs": [],
   "source": [
    "# pip install rescale\n",
    "from rescalex.rescale import Rescale"
   ]
  },
  {
   "cell_type": "code",
   "execution_count": 2,
   "metadata": {},
   "outputs": [],
   "source": [
    "xd = [100.,200.,300.] # test data"
   ]
  },
  {
   "cell_type": "code",
   "execution_count": 3,
   "metadata": {},
   "outputs": [
    {
     "name": "stdout",
     "output_type": "stream",
     "text": [
      "Exclude 0 invalid data points\n",
      "data_minmax = (100.0,300.0) : scale_minmax = (-1.0,1.0) : method = linear\n"
     ]
    }
   ],
   "source": [
    "obj = Rescale(data=xd) # instantitate. By default, method = 'linear', minmax = [-1,1]\n",
    "obj.compute() # compute transformation\n"
   ]
  },
  {
   "cell_type": "code",
   "execution_count": 4,
   "metadata": {},
   "outputs": [
    {
     "data": {
      "text/plain": [
       "{'xd': (100.0, 300.0),\n",
       " 'xs': (-1.0, 1.0),\n",
       " 'method': 'linear',\n",
       " 'trans': (-2.0, 0.01),\n",
       " 'invtrans': (200.0, 100.0),\n",
       " 'Trans': 'xs = -2.000E+00 + 1.000E-02*xd',\n",
       " 'InvTrans': 'xd = 2.000E+02 + 1.000E+02*xs'}"
      ]
     },
     "execution_count": 4,
     "metadata": {},
     "output_type": "execute_result"
    }
   ],
   "source": [
    "obj.model # show transformation model"
   ]
  },
  {
   "cell_type": "code",
   "execution_count": 5,
   "metadata": {},
   "outputs": [],
   "source": [
    "newxd = [0.,100.,300.,400.] # new test data\n",
    "newxs = [-3.,-1.,1.,3.] # test scale"
   ]
  },
  {
   "cell_type": "code",
   "execution_count": 6,
   "metadata": {},
   "outputs": [
    {
     "data": {
      "text/plain": [
       "array([-2., -1.,  1.,  2.])"
      ]
     },
     "execution_count": 6,
     "metadata": {},
     "output_type": "execute_result"
    }
   ],
   "source": [
    "obj.transform(newxd) # transform"
   ]
  },
  {
   "cell_type": "code",
   "execution_count": 7,
   "metadata": {},
   "outputs": [
    {
     "data": {
      "text/plain": [
       "array([-100.,  100.,  300.,  500.])"
      ]
     },
     "execution_count": 7,
     "metadata": {},
     "output_type": "execute_result"
    }
   ],
   "source": [
    "obj.invtransform(newxs) # inverse transform"
   ]
  },
  {
   "cell_type": "code",
   "execution_count": 8,
   "metadata": {},
   "outputs": [
    {
     "name": "stdout",
     "output_type": "stream",
     "text": [
      "Exclude 0 invalid data points\n",
      "data_minmax = (100.0,300.0) : scale_minmax = (0.0,10.0) : method = linear\n"
     ]
    },
    {
     "data": {
      "text/plain": [
       "({'xd': (100.0, 300.0),\n",
       "  'xs': (0.0, 10.0),\n",
       "  'method': 'linear',\n",
       "  'trans': (-5.0, 0.05),\n",
       "  'invtrans': (100.0, 20.0),\n",
       "  'Trans': 'xs = -5.000E+00 + 5.000E-02*xd',\n",
       "  'InvTrans': 'xd = 1.000E+02 + 2.000E+01*xs'},\n",
       " array([-5.,  0., 10., 15.]),\n",
       " array([ 40.,  80., 120., 160.]))"
      ]
     },
     "execution_count": 8,
     "metadata": {},
     "output_type": "execute_result"
    }
   ],
   "source": [
    "# Let's try using different minmax\n",
    "obj2 = Rescale(data=xd,method='linear',minmax=[0.,10.])\n",
    "obj2.compute()\n",
    "obj2.model,obj2.transform(newxd),obj2.invtransform(newxs)"
   ]
  },
  {
   "cell_type": "code",
   "execution_count": 9,
   "metadata": {},
   "outputs": [
    {
     "name": "stdout",
     "output_type": "stream",
     "text": [
      "Exclude 0 invalid data points\n",
      "data_minmax = (100.0,300.0) : scale_minmax = (0.0,1.0) : method = log10\n"
     ]
    },
    {
     "name": "stderr",
     "output_type": "stream",
     "text": [
      "/Users/kbhirombhakdi/anaconda3/envs/py3/lib/python3.7/site-packages/rescalex/rescale.py:49: RuntimeWarning: invalid value encountered in log10\n",
      "  return np.log10(coef[0] + coef[1]*x)\n"
     ]
    },
    {
     "data": {
      "text/plain": [
       "({'xd': (100.0, 300.0),\n",
       "  'xs': (0.0, 1.0),\n",
       "  'method': 'log10',\n",
       "  'trans': (-3.5, 0.045),\n",
       "  'invtrans': (77.77777777777779, 22.22222222222222),\n",
       "  'Trans': 'xs = log10(-3.500E+00 + 4.500E-02*xd)',\n",
       "  'InvTrans': 'xd = 7.778E+01 + 2.222E+01*10^xs'},\n",
       " array([     nan, 0.      , 1.      , 1.161368]),\n",
       " array([   77.8,    80. ,   300. , 22300. ]))"
      ]
     },
     "execution_count": 9,
     "metadata": {},
     "output_type": "execute_result"
    }
   ],
   "source": [
    "# Let's try log10\n",
    "obj3 = Rescale(data=xd,method='log10')\n",
    "obj3.compute()\n",
    "obj3.model,obj3.transform(newxd),obj3.invtransform(newxs)\n",
    "# Note: log10 transform when xd < minimum will likely to be nan due to the nature of log-linear transformation\n"
   ]
  },
  {
   "cell_type": "code",
   "execution_count": null,
   "metadata": {},
   "outputs": [],
   "source": []
  }
 ],
 "metadata": {
  "kernelspec": {
   "display_name": "Python 3",
   "language": "python",
   "name": "python3"
  },
  "language_info": {
   "codemirror_mode": {
    "name": "ipython",
    "version": 3
   },
   "file_extension": ".py",
   "mimetype": "text/x-python",
   "name": "python",
   "nbconvert_exporter": "python",
   "pygments_lexer": "ipython3",
   "version": "3.7.6"
  }
 },
 "nbformat": 4,
 "nbformat_minor": 4
}
